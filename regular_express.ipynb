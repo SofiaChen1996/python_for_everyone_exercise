{
 "cells": [
  {
   "cell_type": "code",
   "execution_count": 22,
   "id": "1e7501b1",
   "metadata": {},
   "outputs": [
    {
     "name": "stdout",
     "output_type": "stream",
     "text": [
      "[1781, 1666, 4246, 8396, 6691, 5099, 5957, 1046, 539, 2342, 6503, 3118, 8939, 1087, 1901, 143, 3975, 605, 2961, 5242, 7355, 5393, 1983, 9071, 3638, 672, 4011, 7503, 2532, 4400, 3302, 3878, 5294, 2111, 240, 4973, 9211, 8282, 350, 8381, 5720, 4205, 3684, 8946, 5834, 9899, 7380, 7737, 2962, 4679, 9552, 9392, 9831, 4, 4381, 8450, 9318, 9326, 246, 4166, 3058, 9082, 6954, 4246, 8768, 3604, 4194, 8284, 5044, 8914, 822, 1259, 8568, 8223, 8033, 4815, 6790, 6514, 4447, 2959, 4196, 2691, 2242, 9270, 6913, 4437, 1584, 3278, 5525, 4858, 7471, 3205, 9371, 6157, 6949, 3197, 7781, 7255, 3958, 7526, 4104, 7379, 3953, 2666, 4, 3, 42]\n",
      "there are 107 numbers, the sum is531122\n"
     ]
    }
   ],
   "source": [
    "import re\n",
    "hand=open('file.txt')\n",
    "word=[]\n",
    "for line in hand:\n",
    "    line.rstrip()\n",
    "    x=re.findall('[0-9]+',line)\n",
    "    for i in x:\n",
    "        word.append(int(i))\n",
    "print(word)\n",
    "print('there are ' + str(len(word)) +' numbers, the sum is'+ str(sum(word)))    \n"
   ]
  },
  {
   "cell_type": "code",
   "execution_count": 18,
   "id": "32ec0f0a",
   "metadata": {},
   "outputs": [
    {
     "name": "stdout",
     "output_type": "stream",
     "text": [
      "[7746, 12, 1929, 8827, 7, 8837, 128]\n",
      "there are 7 numbers, the sum is27486\n"
     ]
    }
   ],
   "source": [
    "import re\n",
    "hand=\"Why should you learn to write programs? 7746 12 1929 8827 Writing programs (or programming) is a very creative  7 and rewarding activity.  You can write programs for  many reasons, ranging from making your living to solving 8837 a difficult data analysis problem to having fun to helping 128 someone else solve a problem.  This book assumes that  everyone needs to know how to program ...\"\n",
    "word=[]\n",
    "x=re.findall('([0-9]+?)\\s',hand)\n",
    "for i in x:\n",
    "    word.append(int(i))\n",
    "print(word)\n",
    "print('there are ' + str(len(word)) +' numbers, the sum is'+ str(sum(word)))    "
   ]
  },
  {
   "cell_type": "code",
   "execution_count": null,
   "id": "56cdfc7f",
   "metadata": {},
   "outputs": [],
   "source": [
    "import re\n",
    "print( sum( [ ****** for line in hand ('[0-9]+',.read()) ] ) )"
   ]
  }
 ],
 "metadata": {
  "kernelspec": {
   "display_name": "Python 3 (ipykernel)",
   "language": "python",
   "name": "python3"
  },
  "language_info": {
   "codemirror_mode": {
    "name": "ipython",
    "version": 3
   },
   "file_extension": ".py",
   "mimetype": "text/x-python",
   "name": "python",
   "nbconvert_exporter": "python",
   "pygments_lexer": "ipython3",
   "version": "3.9.12"
  }
 },
 "nbformat": 4,
 "nbformat_minor": 5
}
