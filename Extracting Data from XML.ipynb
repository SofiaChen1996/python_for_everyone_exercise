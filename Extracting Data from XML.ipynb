{
 "cells": [
  {
   "cell_type": "code",
   "execution_count": 29,
   "id": "fdbad5f6",
   "metadata": {},
   "outputs": [
    {
     "name": "stdout",
     "output_type": "stream",
     "text": [
      "Enter location: https://py4e-data.dr-chuck.net/comments_1491989.xml\n",
      "Retrieving https://py4e-data.dr-chuck.net/comments_1491989.xml\n",
      "Retrieved 4237 characters\n",
      "There are 50 of number\n",
      "the sum is 2470\n"
     ]
    }
   ],
   "source": [
    "import xml.etree.ElementTree as ET\n",
    "url = input('Enter location: ')\n",
    "print('Retrieving', url)\n",
    "uh = urllib.request.urlopen(url)\n",
    "data = uh.read()    \n",
    "print('Retrieved', len(data), 'characters')\n",
    "tree = ET.fromstring(data)\n",
    "lst=tree.findall('.//count')\n",
    "print('There are', len(lst), 'of number')\n",
    "result=0\n",
    "for i in lst:\n",
    "    count=int(i.text)\n",
    "    result+=count\n",
    "print('the sum is', result)"
   ]
  },
  {
   "cell_type": "code",
   "execution_count": null,
   "id": "274da184",
   "metadata": {},
   "outputs": [],
   "source": []
  },
  {
   "cell_type": "code",
   "execution_count": null,
   "id": "df168746",
   "metadata": {},
   "outputs": [],
   "source": []
  }
 ],
 "metadata": {
  "kernelspec": {
   "display_name": "Python 3 (ipykernel)",
   "language": "python",
   "name": "python3"
  },
  "language_info": {
   "codemirror_mode": {
    "name": "ipython",
    "version": 3
   },
   "file_extension": ".py",
   "mimetype": "text/x-python",
   "name": "python",
   "nbconvert_exporter": "python",
   "pygments_lexer": "ipython3",
   "version": "3.9.12"
  }
 },
 "nbformat": 4,
 "nbformat_minor": 5
}
